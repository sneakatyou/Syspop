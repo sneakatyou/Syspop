{
 "cells": [
  {
   "cell_type": "code",
   "execution_count": 3,
   "metadata": {},
   "outputs": [],
   "source": [
    "import numpy as np\n",
    "import sys\n",
    "sys.path.append('/Users/shashankkumar/Documents/GitHub/Syspop/syspop/process')\n",
    "from process.base_pop import base_pop_wrapper\n",
    "from process.household import household_wrapper\n",
    "from genericpath import exists\n",
    "from os import makedirs"
   ]
  },
  {
   "cell_type": "markdown",
   "metadata": {},
   "source": [
    "# Population"
   ]
  },
  {
   "cell_type": "code",
   "execution_count": 5,
   "metadata": {},
   "outputs": [
    {
     "name": "stderr",
     "output_type": "stream",
     "text": [
      "/Users/shashankkumar/anaconda3/envs/LIDA/lib/python3.10/site-packages/debugpy/_vendored/force_pydevd.py:18: UserWarning: incompatible copy of pydevd already imported:\n",
      " /Users/shashankkumar/anaconda3/envs/LIDA/lib/python3.10/site-packages/pydevd_plugins/extensions/pydevd_plugin_omegaconf.py\n",
      "  warnings.warn(msg + ':\\n {}'.format('\\n  '.join(_unvendored)))\n",
      "2024-03-06 01:28:38,835\tERROR services.py:1329 -- Failed to start the dashboard \n",
      "2024-03-06 01:28:38,838\tERROR services.py:1354 -- Error should be written to 'dashboard.log' or 'dashboard.err'. We are printing the last 20 lines for you. See 'https://docs.ray.io/en/master/ray-observability/ray-logging.html#logging-directory-structure' to find where the log file is.\n",
      "2024-03-06 01:28:38,838\tERROR services.py:1364 -- Couldn't read dashboard.log file. Error: [Errno 2] No such file or directory: '/tmp/ray/session_2024-03-06_01-28-16_896509_6920/logs/dashboard.log'. It means the dashboard is broken even before it initializes the logger (mostly dependency issues). Reading the dashboard.err file which contains stdout/stderr.\n",
      "2024-03-06 01:28:38,846\tERROR services.py:1398 -- \n",
      "The last 20 lines of /tmp/ray/session_2024-03-06_01-28-16_896509_6920/logs/dashboard.err (it contains the error message from the dashboard): \n",
      " /Users/shashankkumar/anaconda3/envs/LIDA/lib/python3.10/site-packages/pydevd_plugins/extensions/pydevd_plugin_omegaconf.py\n",
      "  warnings.warn(msg + ':\\n {}'.format('\\n  '.join(_unvendored)))\n",
      "\n",
      "2024-03-06 01:28:40,152\tINFO worker.py:1724 -- Started a local Ray instance.\n"
     ]
    },
    {
     "ename": "KeyboardInterrupt",
     "evalue": "",
     "output_type": "error",
     "traceback": [
      "\u001b[0;31m---------------------------------------------------------------------------\u001b[0m",
      "\u001b[0;31mKeyboardInterrupt\u001b[0m                         Traceback (most recent call last)",
      "Cell \u001b[0;32mIn[5], line 7\u001b[0m\n\u001b[1;32m      4\u001b[0m file \u001b[38;5;241m=\u001b[39m np\u001b[38;5;241m.\u001b[39mload(\u001b[38;5;124m\"\u001b[39m\u001b[38;5;124m/Users/shashankkumar/Documents/GitHub/MacroEcon/all_nta_agents.npy\u001b[39m\u001b[38;5;124m\"\u001b[39m, allow_pickle\u001b[38;5;241m=\u001b[39m\u001b[38;5;28;01mTrue\u001b[39;00m)\n\u001b[1;32m      5\u001b[0m file_dict \u001b[38;5;241m=\u001b[39m file\u001b[38;5;241m.\u001b[39mitem()\n\u001b[0;32m----> 7\u001b[0m base_population,base_address \u001b[38;5;241m=\u001b[39m \u001b[43mbase_pop_wrapper\u001b[49m\u001b[43m(\u001b[49m\u001b[43minput_data\u001b[49m\u001b[38;5;241;43m=\u001b[39;49m\u001b[43mfile_dict\u001b[49m\u001b[43m[\u001b[49m\u001b[38;5;124;43m'\u001b[39;49m\u001b[38;5;124;43mvalid_ntas\u001b[39;49m\u001b[38;5;124;43m'\u001b[39;49m\u001b[43m]\u001b[49m\u001b[43m,\u001b[49m\u001b[43minput_mapping\u001b[49m\u001b[38;5;241;43m=\u001b[39;49m\u001b[43mfile_dict\u001b[49m\u001b[43m[\u001b[49m\u001b[38;5;124;43m'\u001b[39;49m\u001b[38;5;124;43mmapping\u001b[39;49m\u001b[38;5;124;43m'\u001b[39;49m\u001b[43m]\u001b[49m\u001b[43m,\u001b[49m\u001b[43muse_parallel\u001b[49m\u001b[38;5;241;43m=\u001b[39;49m\u001b[38;5;28;43;01mTrue\u001b[39;49;00m\u001b[43m,\u001b[49m\u001b[43mn_cpu\u001b[49m\u001b[38;5;241;43m=\u001b[39;49m\u001b[38;5;241;43m8\u001b[39;49m\u001b[43m)\u001b[49m\n\u001b[1;32m      8\u001b[0m base_population\u001b[38;5;241m.\u001b[39mto_pickle(output_dir \u001b[38;5;241m+\u001b[39m \u001b[38;5;124m\"\u001b[39m\u001b[38;5;124m/base_population.pkl\u001b[39m\u001b[38;5;124m\"\u001b[39m)\n",
      "File \u001b[0;32m~/Documents/GitHub/Syspop/syspop/process/base_pop.py:105\u001b[0m, in \u001b[0;36mbase_pop_wrapper\u001b[0;34m(input_data, input_mapping, use_parallel, n_cpu)\u001b[0m\n\u001b[1;32m    102\u001b[0m \u001b[38;5;28;01mif\u001b[39;00m use_parallel:\n\u001b[1;32m    103\u001b[0m     ray\u001b[38;5;241m.\u001b[39minit(num_cpus\u001b[38;5;241m=\u001b[39mn_cpu, include_dashboard\u001b[38;5;241m=\u001b[39m\u001b[38;5;28;01mFalse\u001b[39;00m)\n\u001b[0;32m--> 105\u001b[0m results \u001b[38;5;241m=\u001b[39m []\n\u001b[1;32m    107\u001b[0m output_areas \u001b[38;5;241m=\u001b[39m \u001b[38;5;28mlist\u001b[39m(input_data\u001b[38;5;241m.\u001b[39mkeys())\n\u001b[1;32m    108\u001b[0m total_output_area \u001b[38;5;241m=\u001b[39m \u001b[38;5;28mlen\u001b[39m(output_areas)\n",
      "File \u001b[0;32m~/Documents/GitHub/Syspop/syspop/process/base_pop.py:105\u001b[0m, in \u001b[0;36mbase_pop_wrapper\u001b[0;34m(input_data, input_mapping, use_parallel, n_cpu)\u001b[0m\n\u001b[1;32m    102\u001b[0m \u001b[38;5;28;01mif\u001b[39;00m use_parallel:\n\u001b[1;32m    103\u001b[0m     ray\u001b[38;5;241m.\u001b[39minit(num_cpus\u001b[38;5;241m=\u001b[39mn_cpu, include_dashboard\u001b[38;5;241m=\u001b[39m\u001b[38;5;28;01mFalse\u001b[39;00m)\n\u001b[0;32m--> 105\u001b[0m results \u001b[38;5;241m=\u001b[39m []\n\u001b[1;32m    107\u001b[0m output_areas \u001b[38;5;241m=\u001b[39m \u001b[38;5;28mlist\u001b[39m(input_data\u001b[38;5;241m.\u001b[39mkeys())\n\u001b[1;32m    108\u001b[0m total_output_area \u001b[38;5;241m=\u001b[39m \u001b[38;5;28mlen\u001b[39m(output_areas)\n",
      "File \u001b[0;32m_pydevd_bundle/pydevd_cython.pyx:1457\u001b[0m, in \u001b[0;36m_pydevd_bundle.pydevd_cython.SafeCallWrapper.__call__\u001b[0;34m()\u001b[0m\n",
      "File \u001b[0;32m_pydevd_bundle/pydevd_cython.pyx:701\u001b[0m, in \u001b[0;36m_pydevd_bundle.pydevd_cython.PyDBFrame.trace_dispatch\u001b[0;34m()\u001b[0m\n",
      "File \u001b[0;32m_pydevd_bundle/pydevd_cython.pyx:1395\u001b[0m, in \u001b[0;36m_pydevd_bundle.pydevd_cython.PyDBFrame.trace_dispatch\u001b[0;34m()\u001b[0m\n",
      "File \u001b[0;32m_pydevd_bundle/pydevd_cython.pyx:1344\u001b[0m, in \u001b[0;36m_pydevd_bundle.pydevd_cython.PyDBFrame.trace_dispatch\u001b[0;34m()\u001b[0m\n",
      "File \u001b[0;32m_pydevd_bundle/pydevd_cython.pyx:312\u001b[0m, in \u001b[0;36m_pydevd_bundle.pydevd_cython.PyDBFrame.do_wait_suspend\u001b[0;34m()\u001b[0m\n",
      "File \u001b[0;32m~/anaconda3/envs/LIDA/lib/python3.10/site-packages/debugpy/_vendored/pydevd/pydevd.py:2070\u001b[0m, in \u001b[0;36mPyDB.do_wait_suspend\u001b[0;34m(self, thread, frame, event, arg, exception_type)\u001b[0m\n\u001b[1;32m   2067\u001b[0m             from_this_thread\u001b[38;5;241m.\u001b[39mappend(frame_custom_thread_id)\n\u001b[1;32m   2069\u001b[0m     \u001b[38;5;28;01mwith\u001b[39;00m \u001b[38;5;28mself\u001b[39m\u001b[38;5;241m.\u001b[39m_threads_suspended_single_notification\u001b[38;5;241m.\u001b[39mnotify_thread_suspended(thread_id, thread, stop_reason):\n\u001b[0;32m-> 2070\u001b[0m         keep_suspended \u001b[38;5;241m=\u001b[39m \u001b[38;5;28;43mself\u001b[39;49m\u001b[38;5;241;43m.\u001b[39;49m\u001b[43m_do_wait_suspend\u001b[49m\u001b[43m(\u001b[49m\u001b[43mthread\u001b[49m\u001b[43m,\u001b[49m\u001b[43m \u001b[49m\u001b[43mframe\u001b[49m\u001b[43m,\u001b[49m\u001b[43m \u001b[49m\u001b[43mevent\u001b[49m\u001b[43m,\u001b[49m\u001b[43m \u001b[49m\u001b[43marg\u001b[49m\u001b[43m,\u001b[49m\u001b[43m \u001b[49m\u001b[43msuspend_type\u001b[49m\u001b[43m,\u001b[49m\u001b[43m \u001b[49m\u001b[43mfrom_this_thread\u001b[49m\u001b[43m,\u001b[49m\u001b[43m \u001b[49m\u001b[43mframes_tracker\u001b[49m\u001b[43m)\u001b[49m\n\u001b[1;32m   2072\u001b[0m frames_list \u001b[38;5;241m=\u001b[39m \u001b[38;5;28;01mNone\u001b[39;00m\n\u001b[1;32m   2074\u001b[0m \u001b[38;5;28;01mif\u001b[39;00m keep_suspended:\n\u001b[1;32m   2075\u001b[0m     \u001b[38;5;66;03m# This means that we should pause again after a set next statement.\u001b[39;00m\n",
      "File \u001b[0;32m~/anaconda3/envs/LIDA/lib/python3.10/site-packages/debugpy/_vendored/pydevd/pydevd.py:2106\u001b[0m, in \u001b[0;36mPyDB._do_wait_suspend\u001b[0;34m(self, thread, frame, event, arg, suspend_type, from_this_thread, frames_tracker)\u001b[0m\n\u001b[1;32m   2103\u001b[0m         \u001b[38;5;28mself\u001b[39m\u001b[38;5;241m.\u001b[39m_call_input_hook()\n\u001b[1;32m   2105\u001b[0m     \u001b[38;5;28mself\u001b[39m\u001b[38;5;241m.\u001b[39mprocess_internal_commands()\n\u001b[0;32m-> 2106\u001b[0m     \u001b[43mtime\u001b[49m\u001b[38;5;241;43m.\u001b[39;49m\u001b[43msleep\u001b[49m\u001b[43m(\u001b[49m\u001b[38;5;241;43m0.01\u001b[39;49m\u001b[43m)\u001b[49m\n\u001b[1;32m   2108\u001b[0m \u001b[38;5;28mself\u001b[39m\u001b[38;5;241m.\u001b[39mcancel_async_evaluation(get_current_thread_id(thread), \u001b[38;5;28mstr\u001b[39m(\u001b[38;5;28mid\u001b[39m(frame)))\n\u001b[1;32m   2110\u001b[0m \u001b[38;5;66;03m# process any stepping instructions\u001b[39;00m\n",
      "\u001b[0;31mKeyboardInterrupt\u001b[0m: "
     ]
    }
   ],
   "source": [
    "output_dir = \"/tmp/syspop_test/NYC/1\"\n",
    "if not exists(output_dir):\n",
    "    makedirs(output_dir)\n",
    "file = np.load(\"/Users/shashankkumar/Documents/GitHub/MacroEcon/all_nta_agents.npy\", allow_pickle=True)\n",
    "file_dict = file.item()\n",
    "\n",
    "base_population,base_address = base_pop_wrapper(input_data=file_dict['valid_ntas'],input_mapping=file_dict['mapping'],use_parallel=True,n_cpu=8)\n",
    "base_population.to_pickle(output_dir + \"/base_population.pkl\")"
   ]
  },
  {
   "cell_type": "markdown",
   "metadata": {},
   "source": [
    "# Household"
   ]
  },
  {
   "cell_type": "code",
   "execution_count": 10,
   "metadata": {},
   "outputs": [],
   "source": [
    "def map_age_to_range(age):\n",
    "    if age < 20:\n",
    "        return 'U19'\n",
    "    elif 20 <= age <= 29:\n",
    "        return '20t29'\n",
    "    elif 30 <= age <= 39:\n",
    "        return '30t39'\n",
    "    elif 40 <= age <= 49:\n",
    "        return '40t49'\n",
    "    elif 50 <= age <= 64:\n",
    "        return '50t64'\n",
    "    else:\n",
    "        return '65A'"
   ]
  },
  {
   "cell_type": "code",
   "execution_count": null,
   "metadata": {},
   "outputs": [],
   "source": [
    "adult_list = ['20t29', '30t39', '40t49', '50t64', '65A']\n",
    "\n"
   ]
  },
  {
   "cell_type": "code",
   "execution_count": null,
   "metadata": {},
   "outputs": [],
   "source": []
  }
 ],
 "metadata": {
  "kernelspec": {
   "display_name": "LIDA",
   "language": "python",
   "name": "python3"
  },
  "language_info": {
   "codemirror_mode": {
    "name": "ipython",
    "version": 3
   },
   "file_extension": ".py",
   "mimetype": "text/x-python",
   "name": "python",
   "nbconvert_exporter": "python",
   "pygments_lexer": "ipython3",
   "version": "3.10.13"
  }
 },
 "nbformat": 4,
 "nbformat_minor": 2
}
