{
 "cells": [
  {
   "cell_type": "code",
   "execution_count": 1,
   "metadata": {},
   "outputs": [],
   "source": [
    "from pickle import load as pickle_load\n",
    "\n",
    "from syspop import create as syspop_create\n",
    "from syspop import diary as syspop_diary\n",
    "from syspop import validate as syspop_validate\n",
    "from syspop import vis as syspop_vis\n",
    "import numpy as np\n",
    "import pandas as pd\n",
    "import sys\n",
    "sys.path.append('/Users/shashankkumar/Documents/GitHub/Syspop/syspop/process')\n",
    "from process.base_pop import base_pop_wrapper\n",
    "from process.household import household_wrapper"
   ]
  },
  {
   "cell_type": "markdown",
   "metadata": {},
   "source": [
    "# Population"
   ]
  },
  {
   "cell_type": "code",
   "execution_count": 2,
   "metadata": {},
   "outputs": [],
   "source": [
    "output_dir = \"/tmp/syspop_test/NYC/1\"\n",
    "import numpy as np\n",
    "import pandas as pd\n",
    "file = np.load(\"/Users/shashankkumar/Documents/AgentTorch_Official/AgentTorch/AgentTorch/helpers/census_data/nyc/generate_data/all_nta_agents.npy\", allow_pickle=True)\n",
    "file_dict = file.item()"
   ]
  },
  {
   "cell_type": "code",
   "execution_count": 3,
   "metadata": {},
   "outputs": [],
   "source": [
    "input_mapping = {\n",
    "    'ethnicity': ['hispanic', 'white', 'black', 'native', 'other', 'asian'],\n",
    "    'age': ['U19', '20t29', '30t39', '40t49', '50t64', '65A'],\n",
    "    'gender': ['male', 'female']\n",
    "}"
   ]
  },
  {
   "cell_type": "code",
   "execution_count": null,
   "metadata": {},
   "outputs": [],
   "source": [
    "base_population = base_pop_wrapper(input_data=file_dict,input_mapping=input_mapping,n_cpu=8,use_parallel=True)"
   ]
  },
  {
   "cell_type": "markdown",
   "metadata": {},
   "source": [
    "# Household"
   ]
  },
  {
   "cell_type": "code",
   "execution_count": 10,
   "metadata": {},
   "outputs": [],
   "source": [
    "def map_age_to_range(age):\n",
    "    if age < 20:\n",
    "        return 'U19'\n",
    "    elif 20 <= age <= 29:\n",
    "        return '20t29'\n",
    "    elif 30 <= age <= 39:\n",
    "        return '30t39'\n",
    "    elif 40 <= age <= 49:\n",
    "        return '40t49'\n",
    "    elif 50 <= age <= 64:\n",
    "        return '50t64'\n",
    "    else:\n",
    "        return '65A'"
   ]
  },
  {
   "cell_type": "code",
   "execution_count": null,
   "metadata": {},
   "outputs": [],
   "source": [
    "adult_list = ['20t29', '30t39', '40t49', '50t64', '65A']\n",
    "\n"
   ]
  },
  {
   "cell_type": "code",
   "execution_count": null,
   "metadata": {},
   "outputs": [],
   "source": []
  }
 ],
 "metadata": {
  "kernelspec": {
   "display_name": "LIDA",
   "language": "python",
   "name": "python3"
  },
  "language_info": {
   "codemirror_mode": {
    "name": "ipython",
    "version": 3
   },
   "file_extension": ".py",
   "mimetype": "text/x-python",
   "name": "python",
   "nbconvert_exporter": "python",
   "pygments_lexer": "ipython3",
   "version": "3.10.13"
  }
 },
 "nbformat": 4,
 "nbformat_minor": 2
}
